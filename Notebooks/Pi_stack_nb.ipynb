{
 "cells": [
  {
   "cell_type": "code",
   "execution_count": 127,
   "id": "40e7ab03-cb7c-4f03-b9fd-d34d6ad2ec4e",
   "metadata": {},
   "outputs": [],
   "source": [
    "from rdkit import Chem\n",
    "import os\n",
    "os.chdir(\"../\") #Exit notebooks folder to import armadillo\n",
    "import MDAnalysis as mda\n",
    "from armadillo import armadillo\n",
    "import warnings\n",
    "warnings.filterwarnings('ignore')\n",
    "import nglview as nv"
   ]
  },
  {
   "cell_type": "code",
   "execution_count": 35,
   "id": "231b8d0f-580c-43e4-b25c-a86085bdc3da",
   "metadata": {},
   "outputs": [
    {
     "name": "stdout",
     "output_type": "stream",
     "text": [
      "RingGroup properties:\n",
      "smiles= c1ccccc1\n"
     ]
    },
    {
     "data": {
      "image/png": "[encoded data removed]",
      "text/plain": [
       "<rdkit.Chem.rdchem.Mol at 0x1655985f0>"
      ]
     },
     "execution_count": 35,
     "metadata": {},
     "output_type": "execute_result"
    }
   ],
   "source": [
    "#Define RingGroup\n",
    "class RingGroup:\n",
    "    \"\"\"A class to define properties of a ring group in a universe\"\"\"\n",
    "    def __init__(self, smiles):\n",
    "        self.s = smiles\n",
    "\n",
    "ring = RingGroup('c1ccccc1')\n",
    "print(\"RingGroup properties:\") \n",
    "print(\"smiles=\", ring.s)\n",
    "Chem.MolFromSmiles(ring.s)"
   ]
  },
  {
   "cell_type": "markdown",
   "id": "70017fac-fd3a-420e-8add-e383f780f025",
   "metadata": {},
   "source": [
    "### Armadillo Demo"
   ]
  },
  {
   "cell_type": "code",
   "execution_count": 154,
   "id": "1b10b77f-05b9-47ec-92a6-cadd6fa9eca1",
   "metadata": {},
   "outputs": [],
   "source": [
    "#Define an MDAnalysis universe from example data\n",
    "from MDAnalysis.tests.datafiles import PSF_NAMD_GBIS, DCD_NAMD_GBIS\n",
    "u = mda.Universe(PSF_NAMD_GBIS, DCD_NAMD_GBIS)"
   ]
  },
  {
   "cell_type": "code",
   "execution_count": 155,
   "id": "80f1afbc-791b-420b-b310-2f724215cc35",
   "metadata": {},
   "outputs": [
    {
     "data": {
      "application/vnd.jupyter.widget-view+json": {
       "model_id": "8b62d500642d4d0a888e1f87db032bba",
       "version_major": 2,
       "version_minor": 0
      },
      "text/plain": [
       "NGLWidget(max_frame=99)"
      ]
     },
     "metadata": {},
     "output_type": "display_data"
    }
   ],
   "source": [
    "nv.show_mdanalysis(u)"
   ]
  },
  {
   "cell_type": "code",
   "execution_count": 159,
   "id": "57cd34d5-02a7-4914-9839-0763db0f5d69",
   "metadata": {},
   "outputs": [
    {
     "data": {
      "text/plain": [
       "<AtomGroup with 3341 atoms>"
      ]
     },
     "execution_count": 159,
     "metadata": {},
     "output_type": "execute_result"
    }
   ],
   "source": [
    "ag = sum(u.atoms.fragments[:20]) \n",
    "ag"
   ]
  },
  {
   "cell_type": "code",
   "execution_count": 157,
   "id": "638de7d5-e2b4-45b0-a3fb-8586959b77c2",
   "metadata": {},
   "outputs": [
    {
     "data": {
      "text/plain": [
       "[<AtomGroup with 5 atoms>,\n",
       " <AtomGroup with 6 atoms>,\n",
       " <AtomGroup with 6 atoms>,\n",
       " <AtomGroup with 6 atoms>,\n",
       " <AtomGroup with 5 atoms>,\n",
       " <AtomGroup with 5 atoms>]"
      ]
     },
     "execution_count": 157,
     "metadata": {},
     "output_type": "execute_result"
    }
   ],
   "source": [
    "#Find all the rings in the universe\n",
    "ring_list = armadillo.find_all_rings(ag, u)\n",
    "ring_list[:6]"
   ]
  },
  {
   "cell_type": "code",
   "execution_count": 167,
   "id": "a21d3d3a-255b-4973-abaf-e20f22b23aec",
   "metadata": {},
   "outputs": [
    {
     "data": {
      "text/plain": [
       "['PRO', 'TYR', 'TYR', 'TYR', 'PRO', 'HSE']"
      ]
     },
     "execution_count": 167,
     "metadata": {},
     "output_type": "execute_result"
    }
   ],
   "source": [
    "#Names of residues in ring_list\n",
    "residues = [x.residues.resnames[0] for x in ring_list]\n",
    "residues[:6]"
   ]
  },
  {
   "cell_type": "code",
   "execution_count": 175,
   "id": "b04585fd-d89f-4cb1-b015-9040ce5d437d",
   "metadata": {},
   "outputs": [
    {
     "data": {
      "text/plain": [
       "25"
      ]
     },
     "execution_count": 175,
     "metadata": {},
     "output_type": "execute_result"
    }
   ],
   "source": [
    "len(residues)"
   ]
  },
  {
   "cell_type": "code",
   "execution_count": 174,
   "id": "c008fbab-dabd-4674-8ff4-e74c46d3b644",
   "metadata": {},
   "outputs": [
    {
     "data": {
      "application/vnd.jupyter.widget-view+json": {
       "model_id": "f963cf2d608f439a87ad0e548366c744",
       "version_major": 2,
       "version_minor": 0
      },
      "text/plain": [
       "NGLWidget()"
      ]
     },
     "metadata": {},
     "output_type": "display_data"
    }
   ],
   "source": [
    "#Look at ring groups\n",
    "view = nv.show_file(u)\n",
    "view.add_ball_and_stick(\"ring\")\n",
    "view"
   ]
  },
  {
   "cell_type": "code",
   "execution_count": 160,
   "id": "51c59790-9e8a-4d6b-9503-e25a05e6669e",
   "metadata": {},
   "outputs": [
    {
     "data": {
      "text/plain": [
       "21.721455161608834"
      ]
     },
     "execution_count": 160,
     "metadata": {},
     "output_type": "execute_result"
    }
   ],
   "source": [
    "#Calculate the distance between 2 rings in the ring list using ring_distance\n",
    "armadillo.ring_distance(ring_list[0], ring_list[1], ag)"
   ]
  },
  {
   "cell_type": "code",
   "execution_count": 161,
   "id": "f195bce4-ff93-432d-8821-4ad57175d8d3",
   "metadata": {},
   "outputs": [
    {
     "data": {
      "text/plain": [
       "67.801186"
      ]
     },
     "execution_count": 161,
     "metadata": {},
     "output_type": "execute_result"
    }
   ],
   "source": [
    "#Calculate the angle in degrees between 2 rings in the ring list using ring_normal_angle\n",
    "armadillo.ring_normal_angle(ring_list[0], ring_list[4])"
   ]
  },
  {
   "cell_type": "code",
   "execution_count": 162,
   "id": "ebf078ae-0534-4c08-b93e-23e92cbb25de",
   "metadata": {},
   "outputs": [
    {
     "data": {
      "text/plain": [
       "False"
      ]
     },
     "execution_count": 162,
     "metadata": {},
     "output_type": "execute_result"
    }
   ],
   "source": [
    "#Ad hoc test to determmine if pi-stacking has occurred by testing distance and alpha angle\n",
    "armadillo.pi_stacking(ring_list[0], ring_list[1], ag, 5, 80)"
   ]
  },
  {
   "cell_type": "code",
   "execution_count": 163,
   "id": "d0352e3f-8ee9-4ba4-9295-8a7d8e86cb3f",
   "metadata": {},
   "outputs": [
    {
     "data": {
      "text/plain": [
       "([], [])"
      ]
     },
     "execution_count": 163,
     "metadata": {},
     "output_type": "execute_result"
    }
   ],
   "source": [
    "#Find pi stacking rings in the ring list\n",
    "armadillo.find_pi_stacking_rings(ring_list, ag)"
   ]
  },
  {
   "cell_type": "code",
   "execution_count": 164,
   "id": "3993a77a-80f8-463b-892b-1e0ea74d68a1",
   "metadata": {},
   "outputs": [],
   "source": [
    "pi_parallel_stacking=[]\n",
    "pi_t_shaped = []\n",
    "for ts in u.trajectory[:25:5]:\n",
    "    parallel_stacking, t_shaped = armadillo.find_pi_stacking_rings(ring_list, ag)\n",
    "    pi_parallel_stacking.append(parallel_stacking)\n",
    "    pi_t_shaped.append(t_shaped)"
   ]
  },
  {
   "cell_type": "code",
   "execution_count": 165,
   "id": "d41ada4f-a68f-44c9-b74b-17f510a72b0a",
   "metadata": {},
   "outputs": [
    {
     "data": {
      "text/plain": [
       "[[], [], [], [], []]"
      ]
     },
     "execution_count": 165,
     "metadata": {},
     "output_type": "execute_result"
    }
   ],
   "source": [
    "pi_parallel_stacking"
   ]
  },
  {
   "cell_type": "code",
   "execution_count": 166,
   "id": "90ce943b-8999-4ae1-ba16-29e11ee658ac",
   "metadata": {},
   "outputs": [
    {
     "data": {
      "image/png": "[encoded data removed]",
      "text/plain": [
       "<Figure size 640x480 with 1 Axes>"
      ]
     },
     "metadata": {},
     "output_type": "display_data"
    }
   ],
   "source": [
    "#Plot a graph to show the distribution of pi stacking (parallel and T-shaped) between\n",
    "armadillo.pi_stacking_distribution(pi_parallel_stacking[4], pi_t_shaped[4], ring_list, ag, u, frame=20)"
   ]
  },
  {
   "cell_type": "code",
   "execution_count": null,
   "id": "ee606e81-e4cb-472c-af1b-8c7af6ddd3aa",
   "metadata": {},
   "outputs": [],
   "source": []
  }
 ],
 "metadata": {
  "kernelspec": {
   "display_name": "Python 3 (ipykernel)",
   "language": "python",
   "name": "python3"
  },
  "language_info": {
   "codemirror_mode": {
    "name": "ipython",
    "version": 3
   },
   "file_extension": ".py",
   "mimetype": "text/x-python",
   "name": "python",
   "nbconvert_exporter": "python",
   "pygments_lexer": "ipython3",
   "version": "3.10.13"
  }
 },
 "nbformat": 4,
 "nbformat_minor": 5
}
