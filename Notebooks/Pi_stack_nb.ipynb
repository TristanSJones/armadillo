{
 "cells": [
  {
   "cell_type": "code",
   "execution_count": 1,
   "id": "40e7ab03-cb7c-4f03-b9fd-d34d6ad2ec4e",
   "metadata": {},
   "outputs": [
    {
     "name": "stderr",
     "output_type": "stream",
     "text": [
      "/Users/hannahturney/miniconda3/envs/openff-environment/lib/python3.11/site-packages/MDAnalysis/topology/TPRParser.py:161: DeprecationWarning: 'xdrlib' is deprecated and slated for removal in Python 3.13\n",
      "  import xdrlib\n"
     ]
    },
    {
     "data": {
      "application/vnd.jupyter.widget-view+json": {
       "model_id": "b01dbfb3f3e34964ab0ad31a7335907d",
       "version_major": 2,
       "version_minor": 0
      },
      "text/plain": []
     },
     "metadata": {},
     "output_type": "display_data"
    }
   ],
   "source": [
    "from rdkit import Chem\n",
    "import os\n",
    "import MDAnalysis as mda\n",
    "import warnings\n",
    "warnings.filterwarnings('ignore')\n",
    "import nglview as nv"
   ]
  },
  {
   "cell_type": "code",
   "execution_count": 2,
   "id": "231b8d0f-580c-43e4-b25c-a86085bdc3da",
   "metadata": {},
   "outputs": [
    {
     "name": "stdout",
     "output_type": "stream",
     "text": [
      "RingGroup properties:\n",
      "smiles= c1ccccc1\n"
     ]
    },
    {
     "data": {
      "image/png": "[encoded data removed]",
      "text/plain": [
       "<rdkit.Chem.rdchem.Mol at 0x141fd5b60>"
      ]
     },
     "execution_count": 2,
     "metadata": {},
     "output_type": "execute_result"
    }
   ],
   "source": [
    "#Define RingGroup\n",
    "class RingGroup:\n",
    "    \"\"\"A class to define properties of a ring group in a universe\"\"\"\n",
    "    def __init__(self, smiles):\n",
    "        self.s = smiles\n",
    "\n",
    "ring = RingGroup('c1ccccc1')\n",
    "print(\"RingGroup properties:\") \n",
    "print(\"smiles=\", ring.s)\n",
    "Chem.MolFromSmiles(ring.s)"
   ]
  },
  {
   "cell_type": "markdown",
   "id": "70017fac-fd3a-420e-8add-e383f780f025",
   "metadata": {},
   "source": [
    "### Armadillo Demo with Alzheimers Tau Human Protein\n",
    "\n",
    "PDB = 8FUG\n",
    "https://www.rcsb.org/structure/8FUG\n",
    "\n",
    "https://www.nature.com/articles/s41467-019-13745-7#:~:text=Aggregation%20of%20the%20Tau%20protein,protein%20binding%20to%20Tau%20fibrils."
   ]
  },
  {
   "cell_type": "code",
   "execution_count": 6,
   "id": "1b10b77f-05b9-47ec-92a6-cadd6fa9eca1",
   "metadata": {},
   "outputs": [
    {
     "data": {
      "text/plain": [
       "<Universe with 27070 atoms>"
      ]
     },
     "execution_count": 6,
     "metadata": {},
     "output_type": "execute_result"
    }
   ],
   "source": [
    "#Define an MDAnalysis universe from example data\n",
    "u = mda.Universe('./Inputs/8FUG_tau.pdb')\n",
    "u"
   ]
  },
  {
   "cell_type": "code",
   "execution_count": 4,
   "id": "80f1afbc-791b-420b-b310-2f724215cc35",
   "metadata": {},
   "outputs": [
    {
     "data": {
      "application/vnd.jupyter.widget-view+json": {
       "model_id": "239826a3c37a47b1b8ae804e6c670c76",
       "version_major": 2,
       "version_minor": 0
      },
      "text/plain": [
       "NGLWidget()"
      ]
     },
     "metadata": {},
     "output_type": "display_data"
    }
   ],
   "source": [
    "nv.show_mdanalysis(u)"
   ]
  },
  {
   "cell_type": "code",
   "execution_count": 5,
   "id": "57cd34d5-02a7-4914-9839-0763db0f5d69",
   "metadata": {},
   "outputs": [
    {
     "data": {
      "text/plain": [
       "<AtomGroup with 27070 atoms>"
      ]
     },
     "execution_count": 5,
     "metadata": {},
     "output_type": "execute_result"
    }
   ],
   "source": [
    "ag = sum(u.atoms.fragments) \n",
    "ag"
   ]
  },
  {
   "cell_type": "code",
   "execution_count": 9,
   "id": "c669613c-77e0-4f4c-964e-9b60464a508a",
   "metadata": {},
   "outputs": [],
   "source": [
    "os.chdir('../')\n",
    "from armadillo import armadillo"
   ]
  },
  {
   "cell_type": "code",
   "execution_count": 10,
   "id": "638de7d5-e2b4-45b0-a3fb-8586959b77c2",
   "metadata": {},
   "outputs": [
    {
     "data": {
      "text/plain": [
       "[<AtomGroup with 6 atoms>,\n",
       " <AtomGroup with 5 atoms>,\n",
       " <AtomGroup with 5 atoms>,\n",
       " <AtomGroup with 5 atoms>,\n",
       " <AtomGroup with 5 atoms>,\n",
       " <AtomGroup with 6 atoms>]"
      ]
     },
     "execution_count": 10,
     "metadata": {},
     "output_type": "execute_result"
    }
   ],
   "source": [
    "#Find all the rings in the universe\n",
    "ring_list = armadillo.find_all_rings(ag, u)\n",
    "ring_list[:6]"
   ]
  },
  {
   "cell_type": "code",
   "execution_count": 13,
   "id": "a21d3d3a-255b-4973-abaf-e20f22b23aec",
   "metadata": {},
   "outputs": [
    {
     "data": {
      "text/plain": [
       "['TYR', 'PRO', 'HIS', 'HIS', 'PRO', 'PHE']"
      ]
     },
     "execution_count": 13,
     "metadata": {},
     "output_type": "execute_result"
    }
   ],
   "source": [
    "#Names of residues in ring_list\n",
    "residues = [x.residues.resnames[0] for x in ring_list]\n",
    "residues[:6]"
   ]
  },
  {
   "cell_type": "code",
   "execution_count": 14,
   "id": "b04585fd-d89f-4cb1-b015-9040ce5d437d",
   "metadata": {},
   "outputs": [
    {
     "data": {
      "text/plain": [
       "322"
      ]
     },
     "execution_count": 14,
     "metadata": {},
     "output_type": "execute_result"
    }
   ],
   "source": [
    "len(residues)"
   ]
  },
  {
   "cell_type": "code",
   "execution_count": 15,
   "id": "c008fbab-dabd-4674-8ff4-e74c46d3b644",
   "metadata": {},
   "outputs": [
    {
     "data": {
      "application/vnd.jupyter.widget-view+json": {
       "model_id": "373ad57f2d4b465bb9d4d01a39cc3dfd",
       "version_major": 2,
       "version_minor": 0
      },
      "text/plain": [
       "NGLWidget()"
      ]
     },
     "metadata": {},
     "output_type": "display_data"
    }
   ],
   "source": [
    "#Look at ring groups\n",
    "view = nv.show_file(u)\n",
    "view.add_ball_and_stick(\"ring\")\n",
    "view"
   ]
  },
  {
   "cell_type": "code",
   "execution_count": 11,
   "id": "51c59790-9e8a-4d6b-9503-e25a05e6669e",
   "metadata": {},
   "outputs": [
    {
     "data": {
      "text/plain": [
       "4.635857406329091"
      ]
     },
     "execution_count": 11,
     "metadata": {},
     "output_type": "execute_result"
    }
   ],
   "source": [
    "#Calculate the distance between 2 rings in the ring list using ring_distance\n",
    "armadillo.ring_distance(ring_list[0], ring_list[1], ag)"
   ]
  },
  {
   "cell_type": "code",
   "execution_count": 12,
   "id": "f195bce4-ff93-432d-8821-4ad57175d8d3",
   "metadata": {},
   "outputs": [
    {
     "data": {
      "text/plain": [
       "62.79168"
      ]
     },
     "execution_count": 12,
     "metadata": {},
     "output_type": "execute_result"
    }
   ],
   "source": [
    "#Calculate the angle in degrees between 2 rings in the ring list using ring_normal_angle\n",
    "armadillo.ring_normal_angle(ring_list[0], ring_list[4])"
   ]
  },
  {
   "cell_type": "code",
   "execution_count": 13,
   "id": "ebf078ae-0534-4c08-b93e-23e92cbb25de",
   "metadata": {},
   "outputs": [
    {
     "data": {
      "text/plain": [
       "False"
      ]
     },
     "execution_count": 13,
     "metadata": {},
     "output_type": "execute_result"
    }
   ],
   "source": [
    "#Ad hoc test to determmine if pi-stacking has occurred by testing distance and alpha angle\n",
    "armadillo.pi_stacking(ring_list[0], ring_list[1], ag, 5, 80)"
   ]
  },
  {
   "cell_type": "code",
   "execution_count": 14,
   "id": "d0352e3f-8ee9-4ba4-9295-8a7d8e86cb3f",
   "metadata": {},
   "outputs": [
    {
     "data": {
      "text/plain": [
       "([[309, 289],\n",
       "  [289, 261],\n",
       "  [261, 233],\n",
       "  [233, 205],\n",
       "  [205, 177],\n",
       "  [177, 149],\n",
       "  [149, 121],\n",
       "  [121, 93],\n",
       "  [93, 65],\n",
       "  [65, 37],\n",
       "  [37, 9],\n",
       "  [300, 280],\n",
       "  [280, 252],\n",
       "  [252, 224],\n",
       "  [224, 196],\n",
       "  [196, 168],\n",
       "  [305, 285],\n",
       "  [285, 257],\n",
       "  [257, 229],\n",
       "  [229, 201],\n",
       "  [201, 173],\n",
       "  [173, 145],\n",
       "  [145, 117],\n",
       "  [117, 89],\n",
       "  [89, 61],\n",
       "  [61, 33],\n",
       "  [33, 5],\n",
       "  [308, 288],\n",
       "  [301, 281],\n",
       "  [288, 260],\n",
       "  [260, 232],\n",
       "  [232, 204],\n",
       "  [204, 176],\n",
       "  [281, 253],\n",
       "  [253, 225],\n",
       "  [225, 197],\n",
       "  [197, 169],\n",
       "  [168, 140],\n",
       "  [169, 141],\n",
       "  [140, 112],\n",
       "  [112, 84],\n",
       "  [84, 56],\n",
       "  [56, 28],\n",
       "  [28, 0],\n",
       "  [176, 148],\n",
       "  [148, 120],\n",
       "  [120, 92],\n",
       "  [92, 64],\n",
       "  [64, 36],\n",
       "  [36, 8],\n",
       "  [141, 113],\n",
       "  [113, 85],\n",
       "  [85, 57],\n",
       "  [57, 29],\n",
       "  [29, 1],\n",
       "  [279, 251],\n",
       "  [251, 223],\n",
       "  [223, 195],\n",
       "  [195, 167],\n",
       "  [167, 139],\n",
       "  [139, 111],\n",
       "  [111, 83],\n",
       "  [83, 55],\n",
       "  [55, 27],\n",
       "  [27, 321],\n",
       "  [277, 250],\n",
       "  [277, 249],\n",
       "  [249, 276],\n",
       "  [249, 222],\n",
       "  [249, 221],\n",
       "  [278, 250],\n",
       "  [276, 250],\n",
       "  [276, 248],\n",
       "  [250, 222],\n",
       "  [248, 222],\n",
       "  [248, 221],\n",
       "  [248, 220],\n",
       "  [222, 194],\n",
       "  [221, 194],\n",
       "  [221, 193],\n",
       "  [220, 194],\n",
       "  [220, 193],\n",
       "  [220, 192],\n",
       "  [194, 166],\n",
       "  [193, 166],\n",
       "  [193, 165],\n",
       "  [192, 166],\n",
       "  [192, 165],\n",
       "  [192, 164],\n",
       "  [166, 138],\n",
       "  [165, 138],\n",
       "  [165, 137],\n",
       "  [164, 138],\n",
       "  [164, 136],\n",
       "  [164, 137],\n",
       "  [138, 110],\n",
       "  [137, 110],\n",
       "  [137, 109],\n",
       "  [110, 136],\n",
       "  [110, 82],\n",
       "  [109, 82],\n",
       "  [109, 136],\n",
       "  [109, 81],\n",
       "  [82, 108],\n",
       "  [82, 54],\n",
       "  [81, 54],\n",
       "  [81, 108],\n",
       "  [81, 53],\n",
       "  [54, 80],\n",
       "  [54, 26],\n",
       "  [53, 26],\n",
       "  [53, 80],\n",
       "  [53, 25],\n",
       "  [26, 52],\n",
       "  [26, 320],\n",
       "  [321, 313],\n",
       "  [320, 25],\n",
       "  [320, 24],\n",
       "  [320, 312],\n",
       "  [25, 52],\n",
       "  [25, 319],\n",
       "  [312, 319],\n",
       "  [312, 318],\n",
       "  [292, 268],\n",
       "  [268, 240],\n",
       "  [240, 212],\n",
       "  [212, 184],\n",
       "  [184, 156],\n",
       "  [156, 128],\n",
       "  [128, 100],\n",
       "  [100, 72],\n",
       "  [72, 44],\n",
       "  [44, 16],\n",
       "  [136, 108],\n",
       "  [108, 80],\n",
       "  [80, 52],\n",
       "  [52, 24],\n",
       "  [24, 319],\n",
       "  [24, 318],\n",
       "  [319, 311],\n",
       "  [318, 311],\n",
       "  [318, 310],\n",
       "  [306, 286],\n",
       "  [286, 258],\n",
       "  [258, 230],\n",
       "  [230, 202],\n",
       "  [202, 174],\n",
       "  [174, 146],\n",
       "  [146, 118],\n",
       "  [46, 74],\n",
       "  [46, 18],\n",
       "  [303, 283],\n",
       "  [307, 287],\n",
       "  [287, 259],\n",
       "  [259, 231],\n",
       "  [231, 203],\n",
       "  [203, 175],\n",
       "  [175, 147],\n",
       "  [147, 119],\n",
       "  [119, 91],\n",
       "  [118, 90],\n",
       "  [91, 63],\n",
       "  [90, 62],\n",
       "  [63, 35],\n",
       "  [62, 34],\n",
       "  [34, 6],\n",
       "  [133, 161],\n",
       "  [133, 105],\n",
       "  [105, 77],\n",
       "  [77, 49],\n",
       "  [49, 21],\n",
       "  [293, 269],\n",
       "  [269, 241],\n",
       "  [241, 213],\n",
       "  [213, 185],\n",
       "  [185, 157],\n",
       "  [157, 129],\n",
       "  [129, 101],\n",
       "  [101, 73],\n",
       "  [73, 45],\n",
       "  [45, 17],\n",
       "  [294, 270],\n",
       "  [270, 242],\n",
       "  [242, 214],\n",
       "  [214, 186],\n",
       "  [186, 158],\n",
       "  [158, 130],\n",
       "  [130, 102],\n",
       "  [102, 74],\n",
       "  [304, 284],\n",
       "  [284, 256],\n",
       "  [256, 228],\n",
       "  [228, 200],\n",
       "  [200, 172],\n",
       "  [172, 144],\n",
       "  [144, 116],\n",
       "  [116, 88],\n",
       "  [88, 60],\n",
       "  [60, 32],\n",
       "  [32, 4],\n",
       "  [283, 255],\n",
       "  [255, 227],\n",
       "  [227, 199],\n",
       "  [199, 171],\n",
       "  [171, 143],\n",
       "  [143, 115],\n",
       "  [115, 87],\n",
       "  [87, 59],\n",
       "  [59, 31],\n",
       "  [31, 3],\n",
       "  [35, 7],\n",
       "  [297, 273],\n",
       "  [273, 245],\n",
       "  [245, 217],\n",
       "  [217, 189],\n",
       "  [189, 161],\n",
       "  [160, 188],\n",
       "  [160, 132],\n",
       "  [132, 104],\n",
       "  [104, 76],\n",
       "  [76, 48],\n",
       "  [48, 20],\n",
       "  [244, 272],\n",
       "  [244, 216],\n",
       "  [216, 188],\n",
       "  [302, 282],\n",
       "  [282, 254],\n",
       "  [296, 272],\n",
       "  [262, 236],\n",
       "  [262, 235],\n",
       "  [262, 234],\n",
       "  [234, 208],\n",
       "  [234, 207],\n",
       "  [234, 206],\n",
       "  [206, 179],\n",
       "  [206, 180],\n",
       "  [206, 178],\n",
       "  [179, 207],\n",
       "  [179, 152],\n",
       "  [179, 151],\n",
       "  [178, 151],\n",
       "  [178, 152],\n",
       "  [178, 150],\n",
       "  [151, 124],\n",
       "  [151, 123],\n",
       "  [150, 123],\n",
       "  [150, 124],\n",
       "  [150, 122],\n",
       "  [123, 96],\n",
       "  [123, 95],\n",
       "  [122, 95],\n",
       "  [122, 94],\n",
       "  [122, 96],\n",
       "  [95, 68],\n",
       "  [95, 67],\n",
       "  [94, 68],\n",
       "  [94, 67],\n",
       "  [94, 66],\n",
       "  [67, 40],\n",
       "  [67, 39],\n",
       "  [66, 40],\n",
       "  [66, 39],\n",
       "  [66, 38],\n",
       "  [40, 68],\n",
       "  [40, 12],\n",
       "  [39, 12],\n",
       "  [39, 11],\n",
       "  [38, 12],\n",
       "  [38, 11],\n",
       "  [38, 10],\n",
       "  [12, 316],\n",
       "  [11, 316],\n",
       "  [11, 315],\n",
       "  [10, 316],\n",
       "  [10, 315],\n",
       "  [10, 314],\n",
       "  [254, 226],\n",
       "  [226, 198],\n",
       "  [198, 170],\n",
       "  [170, 142],\n",
       "  [142, 114],\n",
       "  [114, 86],\n",
       "  [86, 58],\n",
       "  [58, 30],\n",
       "  [30, 2],\n",
       "  [264, 236],\n",
       "  [236, 263],\n",
       "  [236, 208],\n",
       "  [235, 263],\n",
       "  [235, 208],\n",
       "  [235, 207],\n",
       "  [208, 180],\n",
       "  [207, 180],\n",
       "  [181, 209],\n",
       "  [181, 153],\n",
       "  [180, 152],\n",
       "  [153, 125],\n",
       "  [152, 124],\n",
       "  [125, 97],\n",
       "  [124, 96],\n",
       "  [97, 69],\n",
       "  [96, 68],\n",
       "  [69, 41],\n",
       "  [41, 13],\n",
       "  [13, 317],\n",
       "  [209, 237],\n",
       "  [15, 43],\n",
       "  [43, 71],\n",
       "  [22, 50],\n",
       "  [50, 78],\n",
       "  [265, 237],\n",
       "  [211, 239],\n",
       "  [211, 183],\n",
       "  [183, 155],\n",
       "  [155, 127],\n",
       "  [127, 99],\n",
       "  [99, 71],\n",
       "  [70, 98],\n",
       "  [70, 42],\n",
       "  [42, 14],\n",
       "  [246, 274],\n",
       "  [246, 218],\n",
       "  [218, 190],\n",
       "  [190, 162],\n",
       "  [162, 134],\n",
       "  [134, 106],\n",
       "  [106, 78],\n",
       "  [271, 295],\n",
       "  [271, 243],\n",
       "  [243, 215],\n",
       "  [215, 187],\n",
       "  [187, 159],\n",
       "  [159, 131],\n",
       "  [131, 103],\n",
       "  [103, 75],\n",
       "  [75, 47],\n",
       "  [47, 19],\n",
       "  [291, 267],\n",
       "  [267, 239],\n",
       "  [182, 210],\n",
       "  [182, 154],\n",
       "  [154, 126],\n",
       "  [126, 98],\n",
       "  [298, 274],\n",
       "  [238, 266],\n",
       "  [238, 210],\n",
       "  [290, 266],\n",
       "  [135, 163],\n",
       "  [135, 107],\n",
       "  [107, 79],\n",
       "  [79, 51],\n",
       "  [51, 23],\n",
       "  [163, 191],\n",
       "  [299, 275],\n",
       "  [275, 247],\n",
       "  [247, 219],\n",
       "  [219, 191]],\n",
       " [])"
      ]
     },
     "execution_count": 14,
     "metadata": {},
     "output_type": "execute_result"
    }
   ],
   "source": [
    "#Find pi stacking rings in the ring list\n",
    "armadillo.find_pi_stacking_rings(ring_list, ag)"
   ]
  },
  {
   "cell_type": "code",
   "execution_count": 23,
   "id": "e8b6ecd7-2f3f-4dc8-a989-68807219a886",
   "metadata": {},
   "outputs": [],
   "source": [
    "u = mda.Universe('./Notebooks/Outputs/trajectory_pdb.pdb',\n",
    "                './Notebooks/Outputs/trajectory_dcd.dcd')"
   ]
  },
  {
   "cell_type": "code",
   "execution_count": 24,
   "id": "701e4f06-4eca-46d5-a8f0-6133f019386a",
   "metadata": {},
   "outputs": [
    {
     "data": {
      "application/vnd.jupyter.widget-view+json": {
       "model_id": "d5e8e461602749ff8901b5649fa2d104",
       "version_major": 2,
       "version_minor": 0
      },
      "text/plain": [
       "NGLWidget(max_frame=24)"
      ]
     },
     "metadata": {},
     "output_type": "display_data"
    }
   ],
   "source": [
    "nv.show_mdanalysis(u)"
   ]
  },
  {
   "cell_type": "code",
   "execution_count": 25,
   "id": "3993a77a-80f8-463b-892b-1e0ea74d68a1",
   "metadata": {},
   "outputs": [],
   "source": [
    "pi_parallel_stacking=[]\n",
    "pi_t_shaped = []\n",
    "for ts in u.trajectory:\n",
    "    parallel_stacking, t_shaped = armadillo.find_pi_stacking_rings(ring_list, ag)\n",
    "    pi_parallel_stacking.append(parallel_stacking)\n",
    "    pi_t_shaped.append(t_shaped)"
   ]
  },
  {
   "cell_type": "code",
   "execution_count": 28,
   "id": "7301e28a-b34c-4fbb-850a-cbc9d6c1d77e",
   "metadata": {},
   "outputs": [
    {
     "data": {
      "application/vnd.jupyter.widget-view+json": {
       "model_id": "059ba62dd0bc495e9ee0b9ecb47f3be7",
       "version_major": 2,
       "version_minor": 0
      },
      "text/plain": [
       "NGLWidget(max_frame=24)"
      ]
     },
     "metadata": {},
     "output_type": "display_data"
    }
   ],
   "source": [
    "stack_view = nv.show_mdanalysis(u)\n",
    "for i in pi_parallel_stacking[0]:\n",
    "    stack_view.add_ball_and_stick(i)\n",
    "stack_view"
   ]
  },
  {
   "cell_type": "code",
   "execution_count": null,
   "id": "bd31524f-8ef0-4424-a766-6f288931b3a2",
   "metadata": {},
   "outputs": [],
   "source": []
  }
 ],
 "metadata": {
  "kernelspec": {
   "display_name": "Python 3 (ipykernel)",
   "language": "python",
   "name": "python3"
  },
  "language_info": {
   "codemirror_mode": {
    "name": "ipython",
    "version": 3
   },
   "file_extension": ".py",
   "mimetype": "text/x-python",
   "name": "python",
   "nbconvert_exporter": "python",
   "pygments_lexer": "ipython3",
   "version": "3.11.5"
  }
 },
 "nbformat": 4,
 "nbformat_minor": 5
}
